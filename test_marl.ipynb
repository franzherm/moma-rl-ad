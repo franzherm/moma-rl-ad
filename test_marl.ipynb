{
 "cells": [
  {
   "cell_type": "code",
   "execution_count": 34,
   "metadata": {},
   "outputs": [],
   "source": [
    "from src.MOMA_DQN import MOMA_DQN\n",
    "import torch\n",
    "import mo_gymnasium as mo_gym\n",
    "from src.gridsearch import gridsearch\n",
    "from tqdm.notebook import tqdm\n",
    "import pandas as pd\n",
    "import numpy as np\n",
    "from pymoo.util.nds.non_dominated_sorting import NonDominatedSorting\n",
    "from matplotlib import pyplot as plt"
   ]
  },
  {
   "cell_type": "markdown",
   "metadata": {},
   "source": [
    "### Configure and run the experiments"
   ]
  },
  {
   "cell_type": "code",
   "execution_count": 2,
   "metadata": {},
   "outputs": [
    {
     "name": "stderr",
     "output_type": "stream",
     "text": [
      "Training episodes: 100%|██████████| 10000/10000 [1:42:02<00:00,  1.63it/s]\n",
      "Weight tuple: 100%|██████████| 30/30 [06:39<00:00, 13.32s/it]"
     ]
    },
    {
     "name": "stdout",
     "output_type": "stream",
     "text": [
      "      repetition_number  weight_index weight_tuple  num_iterations  \\\n",
      "0                     0             0   [0.0, 1.0]              24   \n",
      "1                     0             0   [0.0, 1.0]              24   \n",
      "2                     1             0   [0.0, 1.0]              80   \n",
      "3                     1             0   [0.0, 1.0]              80   \n",
      "4                     2             0   [0.0, 1.0]              80   \n",
      "...                 ...           ...          ...             ...   \n",
      "1195                 17            29   [1.0, 0.0]              20   \n",
      "1196                 18            29   [1.0, 0.0]              80   \n",
      "1197                 18            29   [1.0, 0.0]              80   \n",
      "1198                 19            29   [1.0, 0.0]              80   \n",
      "1199                 19            29   [1.0, 0.0]              80   \n",
      "\n",
      "      vehicle_id  normalised_speed_reward  normalised_energy_reward  \\\n",
      "0              0                 0.241068                  0.892555   \n",
      "1              1                 0.271312                  0.891398   \n",
      "2              0                 0.309965                  0.878871   \n",
      "3              1                 0.413989                  0.835495   \n",
      "4              0                 0.244121                  0.897591   \n",
      "...          ...                      ...                       ...   \n",
      "1195           1                 0.565848                  0.764053   \n",
      "1196           0                 0.734655                  0.684999   \n",
      "1197           1                 0.779393                  0.687927   \n",
      "1198           0                 0.743999                  0.683756   \n",
      "1199           1                 0.885285                  0.645075   \n",
      "\n",
      "      raw_speed_reward  raw_energy_reward  \n",
      "0             5.785633          21.421332  \n",
      "1             6.511485          21.393555  \n",
      "2            24.797198          70.309655  \n",
      "3            33.119099          66.839587  \n",
      "4            19.529677          71.807315  \n",
      "...                ...                ...  \n",
      "1195         11.316967          15.281056  \n",
      "1196         58.772429          54.799892  \n",
      "1197         62.351426          55.034150  \n",
      "1198         59.519886          54.700501  \n",
      "1199         70.822787          51.606037  \n",
      "\n",
      "[1200 rows x 9 columns]\n"
     ]
    },
    {
     "name": "stderr",
     "output_type": "stream",
     "text": [
      "\n"
     ]
    }
   ],
   "source": [
    "env = mo_gym.make('moma-highway-env-v0', render_mode='rgb_array')\n",
    "env.unwrapped.configure({\n",
    "    \"screen_width\": 500,\n",
    "    \"screen_height\": 500,\n",
    "    \"vehicles_count\": 10,\n",
    "    \"controlled_vehicles\": 2,\n",
    "    \"observation\": {\n",
    "        \"type\": \"AugmentedMultiAgentObservation\",\n",
    "        \"observation_config\": {\n",
    "            \"type\": \"AugmentedMultiAgentObservation\",\n",
    "            \"see_behind\": False, \n",
    "            \"features\": ['presence', 'x', 'y', 'vx', 'vy', 'obj_weights', \"lane_info\"]\n",
    "        }\n",
    "    },\n",
    "    \"action\": {\n",
    "        \"type\": \"MultiAgentAction\",\n",
    "        \"action_config\": {\n",
    "            \"type\": \"DiscreteMetaAction\",\n",
    "        }\n",
    "    }\n",
    "})\n",
    "\n",
    "obs, info = env.reset()\n",
    "obs = [torch.tensor(single_obs) for single_obs in obs] #reshape observations and\n",
    "obs = [single_obs[~torch.isnan(single_obs)].reshape(1,-1) for single_obs in obs] #remove nan values\n",
    "moma_agent = MOMA_DQN(env, num_objectives=2, seed=11, observation_space_length=obs[0].shape[1], replay_buffer_size=1000, batch_ratio=0.3,\n",
    "                      objective_names=[\"speed_reward\", \"energy_reward\"])\n",
    "moma_agent.train(10_000, epsilon_start=0.9, epsilon_end=0.0)\n",
    "\n",
    "df = moma_agent.evaluate(num_repetitions= 20, hv_reference_point=np.ndarray([0,0]), seed=11, episode_recording_interval=None, num_points=30)\n",
    "print(df)\n",
    "df.to_csv(\"data/marl.csv\")"
   ]
  },
  {
   "cell_type": "markdown",
   "metadata": {},
   "source": [
    "### Data preprocessing"
   ]
  },
  {
   "cell_type": "code",
   "execution_count": 3,
   "metadata": {},
   "outputs": [
    {
     "name": "stdout",
     "output_type": "stream",
     "text": [
      "<class 'pandas.core.frame.DataFrame'>\n",
      "RangeIndex: 1200 entries, 0 to 1199\n",
      "Data columns (total 10 columns):\n",
      " #   Column                    Non-Null Count  Dtype  \n",
      "---  ------                    --------------  -----  \n",
      " 0   Unnamed: 0                1200 non-null   int64  \n",
      " 1   repetition_number         1200 non-null   int64  \n",
      " 2   weight_index              1200 non-null   int64  \n",
      " 3   weight_tuple              1200 non-null   object \n",
      " 4   num_iterations            1200 non-null   int64  \n",
      " 5   vehicle_id                1200 non-null   int64  \n",
      " 6   normalised_speed_reward   1200 non-null   float64\n",
      " 7   normalised_energy_reward  1200 non-null   float64\n",
      " 8   raw_speed_reward          1200 non-null   float64\n",
      " 9   raw_energy_reward         1200 non-null   float64\n",
      "dtypes: float64(4), int64(5), object(1)\n",
      "memory usage: 93.9+ KB\n"
     ]
    },
    {
     "data": {
      "text/plain": [
       "None"
      ]
     },
     "metadata": {},
     "output_type": "display_data"
    },
    {
     "data": {
      "text/html": [
       "<div>\n",
       "<style scoped>\n",
       "    .dataframe tbody tr th:only-of-type {\n",
       "        vertical-align: middle;\n",
       "    }\n",
       "\n",
       "    .dataframe tbody tr th {\n",
       "        vertical-align: top;\n",
       "    }\n",
       "\n",
       "    .dataframe thead th {\n",
       "        text-align: right;\n",
       "    }\n",
       "</style>\n",
       "<table border=\"1\" class=\"dataframe\">\n",
       "  <thead>\n",
       "    <tr style=\"text-align: right;\">\n",
       "      <th></th>\n",
       "      <th>Unnamed: 0</th>\n",
       "      <th>repetition_number</th>\n",
       "      <th>weight_index</th>\n",
       "      <th>weight_tuple</th>\n",
       "      <th>num_iterations</th>\n",
       "      <th>vehicle_id</th>\n",
       "      <th>normalised_speed_reward</th>\n",
       "      <th>normalised_energy_reward</th>\n",
       "      <th>raw_speed_reward</th>\n",
       "      <th>raw_energy_reward</th>\n",
       "    </tr>\n",
       "  </thead>\n",
       "  <tbody>\n",
       "    <tr>\n",
       "      <th>0</th>\n",
       "      <td>0</td>\n",
       "      <td>0</td>\n",
       "      <td>0</td>\n",
       "      <td>[0.0, 1.0]</td>\n",
       "      <td>24</td>\n",
       "      <td>0</td>\n",
       "      <td>0.241068</td>\n",
       "      <td>0.892555</td>\n",
       "      <td>5.785633</td>\n",
       "      <td>21.421332</td>\n",
       "    </tr>\n",
       "    <tr>\n",
       "      <th>1</th>\n",
       "      <td>1</td>\n",
       "      <td>0</td>\n",
       "      <td>0</td>\n",
       "      <td>[0.0, 1.0]</td>\n",
       "      <td>24</td>\n",
       "      <td>1</td>\n",
       "      <td>0.271312</td>\n",
       "      <td>0.891398</td>\n",
       "      <td>6.511485</td>\n",
       "      <td>21.393555</td>\n",
       "    </tr>\n",
       "    <tr>\n",
       "      <th>2</th>\n",
       "      <td>2</td>\n",
       "      <td>1</td>\n",
       "      <td>0</td>\n",
       "      <td>[0.0, 1.0]</td>\n",
       "      <td>80</td>\n",
       "      <td>0</td>\n",
       "      <td>0.309965</td>\n",
       "      <td>0.878871</td>\n",
       "      <td>24.797198</td>\n",
       "      <td>70.309655</td>\n",
       "    </tr>\n",
       "    <tr>\n",
       "      <th>3</th>\n",
       "      <td>3</td>\n",
       "      <td>1</td>\n",
       "      <td>0</td>\n",
       "      <td>[0.0, 1.0]</td>\n",
       "      <td>80</td>\n",
       "      <td>1</td>\n",
       "      <td>0.413989</td>\n",
       "      <td>0.835495</td>\n",
       "      <td>33.119099</td>\n",
       "      <td>66.839587</td>\n",
       "    </tr>\n",
       "    <tr>\n",
       "      <th>4</th>\n",
       "      <td>4</td>\n",
       "      <td>2</td>\n",
       "      <td>0</td>\n",
       "      <td>[0.0, 1.0]</td>\n",
       "      <td>80</td>\n",
       "      <td>0</td>\n",
       "      <td>0.244121</td>\n",
       "      <td>0.897591</td>\n",
       "      <td>19.529677</td>\n",
       "      <td>71.807315</td>\n",
       "    </tr>\n",
       "    <tr>\n",
       "      <th>...</th>\n",
       "      <td>...</td>\n",
       "      <td>...</td>\n",
       "      <td>...</td>\n",
       "      <td>...</td>\n",
       "      <td>...</td>\n",
       "      <td>...</td>\n",
       "      <td>...</td>\n",
       "      <td>...</td>\n",
       "      <td>...</td>\n",
       "      <td>...</td>\n",
       "    </tr>\n",
       "    <tr>\n",
       "      <th>1195</th>\n",
       "      <td>1195</td>\n",
       "      <td>17</td>\n",
       "      <td>29</td>\n",
       "      <td>[1.0, 0.0]</td>\n",
       "      <td>20</td>\n",
       "      <td>1</td>\n",
       "      <td>0.565848</td>\n",
       "      <td>0.764053</td>\n",
       "      <td>11.316967</td>\n",
       "      <td>15.281056</td>\n",
       "    </tr>\n",
       "    <tr>\n",
       "      <th>1196</th>\n",
       "      <td>1196</td>\n",
       "      <td>18</td>\n",
       "      <td>29</td>\n",
       "      <td>[1.0, 0.0]</td>\n",
       "      <td>80</td>\n",
       "      <td>0</td>\n",
       "      <td>0.734655</td>\n",
       "      <td>0.684999</td>\n",
       "      <td>58.772429</td>\n",
       "      <td>54.799892</td>\n",
       "    </tr>\n",
       "    <tr>\n",
       "      <th>1197</th>\n",
       "      <td>1197</td>\n",
       "      <td>18</td>\n",
       "      <td>29</td>\n",
       "      <td>[1.0, 0.0]</td>\n",
       "      <td>80</td>\n",
       "      <td>1</td>\n",
       "      <td>0.779393</td>\n",
       "      <td>0.687927</td>\n",
       "      <td>62.351426</td>\n",
       "      <td>55.034150</td>\n",
       "    </tr>\n",
       "    <tr>\n",
       "      <th>1198</th>\n",
       "      <td>1198</td>\n",
       "      <td>19</td>\n",
       "      <td>29</td>\n",
       "      <td>[1.0, 0.0]</td>\n",
       "      <td>80</td>\n",
       "      <td>0</td>\n",
       "      <td>0.743999</td>\n",
       "      <td>0.683756</td>\n",
       "      <td>59.519886</td>\n",
       "      <td>54.700501</td>\n",
       "    </tr>\n",
       "    <tr>\n",
       "      <th>1199</th>\n",
       "      <td>1199</td>\n",
       "      <td>19</td>\n",
       "      <td>29</td>\n",
       "      <td>[1.0, 0.0]</td>\n",
       "      <td>80</td>\n",
       "      <td>1</td>\n",
       "      <td>0.885285</td>\n",
       "      <td>0.645075</td>\n",
       "      <td>70.822787</td>\n",
       "      <td>51.606037</td>\n",
       "    </tr>\n",
       "  </tbody>\n",
       "</table>\n",
       "<p>1200 rows × 10 columns</p>\n",
       "</div>"
      ],
      "text/plain": [
       "      Unnamed: 0  repetition_number  weight_index weight_tuple  \\\n",
       "0              0                  0             0   [0.0, 1.0]   \n",
       "1              1                  0             0   [0.0, 1.0]   \n",
       "2              2                  1             0   [0.0, 1.0]   \n",
       "3              3                  1             0   [0.0, 1.0]   \n",
       "4              4                  2             0   [0.0, 1.0]   \n",
       "...          ...                ...           ...          ...   \n",
       "1195        1195                 17            29   [1.0, 0.0]   \n",
       "1196        1196                 18            29   [1.0, 0.0]   \n",
       "1197        1197                 18            29   [1.0, 0.0]   \n",
       "1198        1198                 19            29   [1.0, 0.0]   \n",
       "1199        1199                 19            29   [1.0, 0.0]   \n",
       "\n",
       "      num_iterations  vehicle_id  normalised_speed_reward  \\\n",
       "0                 24           0                 0.241068   \n",
       "1                 24           1                 0.271312   \n",
       "2                 80           0                 0.309965   \n",
       "3                 80           1                 0.413989   \n",
       "4                 80           0                 0.244121   \n",
       "...              ...         ...                      ...   \n",
       "1195              20           1                 0.565848   \n",
       "1196              80           0                 0.734655   \n",
       "1197              80           1                 0.779393   \n",
       "1198              80           0                 0.743999   \n",
       "1199              80           1                 0.885285   \n",
       "\n",
       "      normalised_energy_reward  raw_speed_reward  raw_energy_reward  \n",
       "0                     0.892555          5.785633          21.421332  \n",
       "1                     0.891398          6.511485          21.393555  \n",
       "2                     0.878871         24.797198          70.309655  \n",
       "3                     0.835495         33.119099          66.839587  \n",
       "4                     0.897591         19.529677          71.807315  \n",
       "...                        ...               ...                ...  \n",
       "1195                  0.764053         11.316967          15.281056  \n",
       "1196                  0.684999         58.772429          54.799892  \n",
       "1197                  0.687927         62.351426          55.034150  \n",
       "1198                  0.683756         59.519886          54.700501  \n",
       "1199                  0.645075         70.822787          51.606037  \n",
       "\n",
       "[1200 rows x 10 columns]"
      ]
     },
     "metadata": {},
     "output_type": "display_data"
    }
   ],
   "source": [
    "#load the data\n",
    "df_complete = pd.read_csv(\"data/marl.csv\")\n",
    "display(df_complete.info())\n",
    "display(df_complete)"
   ]
  },
  {
   "cell_type": "code",
   "execution_count": 14,
   "metadata": {},
   "outputs": [],
   "source": [
    "value_columns = [\"normalised_speed_reward\", \"normalised_energy_reward\"]\n",
    "grouped_df = df_complete.groupby([\"weight_index\", \"vehicle_id\"])[value_columns].mean()\n",
    "grouped_df = grouped_df.reset_index()\n",
    "grouped_df[\"pareto\"] = False\n",
    "\n",
    "#add pareto information\n",
    "nds = NonDominatedSorting()\n",
    "for v_id in grouped_df[\"vehicle_id\"].unique():\n",
    "    data = grouped_df[grouped_df[\"vehicle_id\"] == v_id]\n",
    "    pareto_indices = nds.do(data[value_columns], only_non_dominated_front=True)\n",
    "    grouped_df.loc[(grouped_df[\"vehicle_id\"] == v_id) & (data[\"weight_index\"].isin(pareto_indices)), \"pareto\"] = True"
   ]
  },
  {
   "cell_type": "code",
   "execution_count": 19,
   "metadata": {},
   "outputs": [
    {
     "data": {
      "text/plain": [
       "<Axes: xlabel='normalised_speed_reward', ylabel='normalised_energy_reward'>"
      ]
     },
     "execution_count": 19,
     "metadata": {},
     "output_type": "execute_result"
    },
    {
     "data": {
      "image/png": "[encoded data removed]",
      "text/plain": [
       "<Figure size 640x480 with 1 Axes>"
      ]
     },
     "metadata": {},
     "output_type": "display_data"
    }
   ],
   "source": [
    "#plot all points\n",
    "import seaborn as sns\n",
    "sns.scatterplot(data=grouped_df, x='normalised_speed_reward', y='normalised_energy_reward', hue=\"vehicle_id\")"
   ]
  },
  {
   "cell_type": "code",
   "execution_count": 41,
   "metadata": {},
   "outputs": [
    {
     "data": {
      "text/plain": [
       "<Axes: xlabel='weight_index'>"
      ]
     },
     "execution_count": 41,
     "metadata": {},
     "output_type": "execute_result"
    },
    {
     "data": {
      "image/png": "[encoded data removed]",
      "text/plain": [
       "<Figure size 640x480 with 1 Axes>"
      ]
     },
     "metadata": {},
     "output_type": "display_data"
    }
   ],
   "source": [
    "#num iterations\n",
    "grouped_df_mean = df_complete.groupby([\"weight_index\", \"vehicle_id\"])[\"num_iterations\"].mean()\n",
    "grouped_df_mean = grouped_df.reset_index()\n",
    "\n",
    "#num iterations\n",
    "grouped_df_std = df_complete.groupby([\"weight_index\", \"vehicle_id\"])[\"num_iterations\"].std()\n",
    "grouped_df_std = grouped_df.reset_index()\n",
    "\n",
    "grouped_df_mean.plot(x=\"weight_index\", y=\"num_iterations\",ylim=(0, 80))"
   ]
  }
 ],
 "metadata": {
  "kernelspec": {
   "display_name": "venv",
   "language": "python",
   "name": "python3"
  },
  "language_info": {
   "codemirror_mode": {
    "name": "ipython",
    "version": 3
   },
   "file_extension": ".py",
   "mimetype": "text/x-python",
   "name": "python",
   "nbconvert_exporter": "python",
   "pygments_lexer": "ipython3",
   "version": "3.12.3"
  }
 },
 "nbformat": 4,
 "nbformat_minor": 2
}
