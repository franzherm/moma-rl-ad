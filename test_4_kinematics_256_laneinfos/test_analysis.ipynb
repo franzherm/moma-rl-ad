{
 "cells": [
  {
   "cell_type": "code",
   "execution_count": 1,
   "metadata": {},
   "outputs": [],
   "source": [
    "import pandas as pd\n",
    "import numpy as np\n",
    "import seaborn as sns"
   ]
  },
  {
   "cell_type": "code",
   "execution_count": 2,
   "metadata": {},
   "outputs": [
    {
     "name": "stdout",
     "output_type": "stream",
     "text": [
      "<class 'pandas.core.frame.DataFrame'>\n",
      "RangeIndex: 200 entries, 0 to 199\n",
      "Data columns (total 10 columns):\n",
      " #   Column                    Non-Null Count  Dtype  \n",
      "---  ------                    --------------  -----  \n",
      " 0   Unnamed: 0                200 non-null    int64  \n",
      " 1   repetition_number         200 non-null    int64  \n",
      " 2   weight_index              200 non-null    int64  \n",
      " 3   weight_tuple              200 non-null    object \n",
      " 4   num_iterations            200 non-null    int64  \n",
      " 5   vehicle_id                200 non-null    int64  \n",
      " 6   normalised_speed_reward   200 non-null    float64\n",
      " 7   normalised_energy_reward  200 non-null    float64\n",
      " 8   raw_speed_reward          200 non-null    float64\n",
      " 9   raw_energy_reward         200 non-null    float64\n",
      "dtypes: float64(4), int64(5), object(1)\n",
      "memory usage: 15.8+ KB\n"
     ]
    },
    {
     "data": {
      "text/plain": [
       "None"
      ]
     },
     "metadata": {},
     "output_type": "display_data"
    },
    {
     "data": {
      "text/html": [
       "<div>\n",
       "<style scoped>\n",
       "    .dataframe tbody tr th:only-of-type {\n",
       "        vertical-align: middle;\n",
       "    }\n",
       "\n",
       "    .dataframe tbody tr th {\n",
       "        vertical-align: top;\n",
       "    }\n",
       "\n",
       "    .dataframe thead th {\n",
       "        text-align: right;\n",
       "    }\n",
       "</style>\n",
       "<table border=\"1\" class=\"dataframe\">\n",
       "  <thead>\n",
       "    <tr style=\"text-align: right;\">\n",
       "      <th></th>\n",
       "      <th>Unnamed: 0</th>\n",
       "      <th>repetition_number</th>\n",
       "      <th>weight_index</th>\n",
       "      <th>weight_tuple</th>\n",
       "      <th>num_iterations</th>\n",
       "      <th>vehicle_id</th>\n",
       "      <th>normalised_speed_reward</th>\n",
       "      <th>normalised_energy_reward</th>\n",
       "      <th>raw_speed_reward</th>\n",
       "      <th>raw_energy_reward</th>\n",
       "    </tr>\n",
       "  </thead>\n",
       "  <tbody>\n",
       "    <tr>\n",
       "      <th>0</th>\n",
       "      <td>0</td>\n",
       "      <td>0</td>\n",
       "      <td>0</td>\n",
       "      <td>[0.0, 1.0]</td>\n",
       "      <td>80</td>\n",
       "      <td>0</td>\n",
       "      <td>0.032264</td>\n",
       "      <td>0.983989</td>\n",
       "      <td>2.581154</td>\n",
       "      <td>78.719158</td>\n",
       "    </tr>\n",
       "    <tr>\n",
       "      <th>1</th>\n",
       "      <td>1</td>\n",
       "      <td>0</td>\n",
       "      <td>0</td>\n",
       "      <td>[0.0, 1.0]</td>\n",
       "      <td>80</td>\n",
       "      <td>1</td>\n",
       "      <td>0.048187</td>\n",
       "      <td>0.999849</td>\n",
       "      <td>3.854944</td>\n",
       "      <td>79.987933</td>\n",
       "    </tr>\n",
       "    <tr>\n",
       "      <th>2</th>\n",
       "      <td>2</td>\n",
       "      <td>1</td>\n",
       "      <td>0</td>\n",
       "      <td>[0.0, 1.0]</td>\n",
       "      <td>80</td>\n",
       "      <td>0</td>\n",
       "      <td>0.000685</td>\n",
       "      <td>0.952198</td>\n",
       "      <td>0.054787</td>\n",
       "      <td>76.175866</td>\n",
       "    </tr>\n",
       "    <tr>\n",
       "      <th>3</th>\n",
       "      <td>3</td>\n",
       "      <td>1</td>\n",
       "      <td>0</td>\n",
       "      <td>[0.0, 1.0]</td>\n",
       "      <td>80</td>\n",
       "      <td>1</td>\n",
       "      <td>0.000345</td>\n",
       "      <td>0.952290</td>\n",
       "      <td>0.027600</td>\n",
       "      <td>76.183196</td>\n",
       "    </tr>\n",
       "    <tr>\n",
       "      <th>4</th>\n",
       "      <td>4</td>\n",
       "      <td>2</td>\n",
       "      <td>0</td>\n",
       "      <td>[0.0, 1.0]</td>\n",
       "      <td>80</td>\n",
       "      <td>0</td>\n",
       "      <td>0.047935</td>\n",
       "      <td>0.999917</td>\n",
       "      <td>3.834838</td>\n",
       "      <td>79.993329</td>\n",
       "    </tr>\n",
       "    <tr>\n",
       "      <th>...</th>\n",
       "      <td>...</td>\n",
       "      <td>...</td>\n",
       "      <td>...</td>\n",
       "      <td>...</td>\n",
       "      <td>...</td>\n",
       "      <td>...</td>\n",
       "      <td>...</td>\n",
       "      <td>...</td>\n",
       "      <td>...</td>\n",
       "      <td>...</td>\n",
       "    </tr>\n",
       "    <tr>\n",
       "      <th>195</th>\n",
       "      <td>195</td>\n",
       "      <td>2</td>\n",
       "      <td>19</td>\n",
       "      <td>[1.0, 0.0]</td>\n",
       "      <td>80</td>\n",
       "      <td>1</td>\n",
       "      <td>0.016358</td>\n",
       "      <td>0.968125</td>\n",
       "      <td>1.308650</td>\n",
       "      <td>77.450034</td>\n",
       "    </tr>\n",
       "    <tr>\n",
       "      <th>196</th>\n",
       "      <td>196</td>\n",
       "      <td>3</td>\n",
       "      <td>19</td>\n",
       "      <td>[1.0, 0.0]</td>\n",
       "      <td>80</td>\n",
       "      <td>0</td>\n",
       "      <td>0.016183</td>\n",
       "      <td>0.968172</td>\n",
       "      <td>1.294668</td>\n",
       "      <td>77.453776</td>\n",
       "    </tr>\n",
       "    <tr>\n",
       "      <th>197</th>\n",
       "      <td>197</td>\n",
       "      <td>3</td>\n",
       "      <td>19</td>\n",
       "      <td>[1.0, 0.0]</td>\n",
       "      <td>80</td>\n",
       "      <td>1</td>\n",
       "      <td>0.032042</td>\n",
       "      <td>0.984049</td>\n",
       "      <td>2.563384</td>\n",
       "      <td>78.723917</td>\n",
       "    </tr>\n",
       "    <tr>\n",
       "      <th>198</th>\n",
       "      <td>198</td>\n",
       "      <td>4</td>\n",
       "      <td>19</td>\n",
       "      <td>[1.0, 0.0]</td>\n",
       "      <td>80</td>\n",
       "      <td>0</td>\n",
       "      <td>0.016088</td>\n",
       "      <td>0.968197</td>\n",
       "      <td>1.287059</td>\n",
       "      <td>77.455795</td>\n",
       "    </tr>\n",
       "    <tr>\n",
       "      <th>199</th>\n",
       "      <td>199</td>\n",
       "      <td>4</td>\n",
       "      <td>19</td>\n",
       "      <td>[1.0, 0.0]</td>\n",
       "      <td>80</td>\n",
       "      <td>1</td>\n",
       "      <td>0.016443</td>\n",
       "      <td>0.968103</td>\n",
       "      <td>1.315446</td>\n",
       "      <td>77.448201</td>\n",
       "    </tr>\n",
       "  </tbody>\n",
       "</table>\n",
       "<p>200 rows × 10 columns</p>\n",
       "</div>"
      ],
      "text/plain": [
       "     Unnamed: 0  repetition_number  weight_index weight_tuple  num_iterations  \\\n",
       "0             0                  0             0   [0.0, 1.0]              80   \n",
       "1             1                  0             0   [0.0, 1.0]              80   \n",
       "2             2                  1             0   [0.0, 1.0]              80   \n",
       "3             3                  1             0   [0.0, 1.0]              80   \n",
       "4             4                  2             0   [0.0, 1.0]              80   \n",
       "..          ...                ...           ...          ...             ...   \n",
       "195         195                  2            19   [1.0, 0.0]              80   \n",
       "196         196                  3            19   [1.0, 0.0]              80   \n",
       "197         197                  3            19   [1.0, 0.0]              80   \n",
       "198         198                  4            19   [1.0, 0.0]              80   \n",
       "199         199                  4            19   [1.0, 0.0]              80   \n",
       "\n",
       "     vehicle_id  normalised_speed_reward  normalised_energy_reward  \\\n",
       "0             0                 0.032264                  0.983989   \n",
       "1             1                 0.048187                  0.999849   \n",
       "2             0                 0.000685                  0.952198   \n",
       "3             1                 0.000345                  0.952290   \n",
       "4             0                 0.047935                  0.999917   \n",
       "..          ...                      ...                       ...   \n",
       "195           1                 0.016358                  0.968125   \n",
       "196           0                 0.016183                  0.968172   \n",
       "197           1                 0.032042                  0.984049   \n",
       "198           0                 0.016088                  0.968197   \n",
       "199           1                 0.016443                  0.968103   \n",
       "\n",
       "     raw_speed_reward  raw_energy_reward  \n",
       "0            2.581154          78.719158  \n",
       "1            3.854944          79.987933  \n",
       "2            0.054787          76.175866  \n",
       "3            0.027600          76.183196  \n",
       "4            3.834838          79.993329  \n",
       "..                ...                ...  \n",
       "195          1.308650          77.450034  \n",
       "196          1.294668          77.453776  \n",
       "197          2.563384          78.723917  \n",
       "198          1.287059          77.455795  \n",
       "199          1.315446          77.448201  \n",
       "\n",
       "[200 rows x 10 columns]"
      ]
     },
     "metadata": {},
     "output_type": "display_data"
    }
   ],
   "source": [
    "#load the data\n",
    "df_complete = pd.read_csv(\"eval_test.csv\")\n",
    "display(df_complete.info())\n",
    "display(df_complete)"
   ]
  },
  {
   "cell_type": "code",
   "execution_count": 3,
   "metadata": {},
   "outputs": [
    {
     "name": "stdout",
     "output_type": "stream",
     "text": [
      "    vehicle_id  weight_index  num_iterations\n",
      "0            0             0            80.0\n",
      "1            0             1            80.0\n",
      "2            0             2            80.0\n",
      "3            0             3            80.0\n",
      "4            0             4            80.0\n",
      "5            0             5            80.0\n",
      "6            0             6            80.0\n",
      "7            0             7            80.0\n",
      "8            0             8            80.0\n",
      "9            0             9            80.0\n",
      "10           0            10            80.0\n",
      "11           0            11            80.0\n",
      "12           0            12            80.0\n",
      "13           0            13            80.0\n",
      "14           0            14            80.0\n",
      "15           0            15            80.0\n",
      "16           0            16            80.0\n",
      "17           0            17            80.0\n",
      "18           0            18            80.0\n",
      "19           0            19            80.0\n",
      "20           1             0            80.0\n",
      "21           1             1            80.0\n",
      "22           1             2            80.0\n",
      "23           1             3            80.0\n",
      "24           1             4            80.0\n",
      "25           1             5            80.0\n",
      "26           1             6            80.0\n",
      "27           1             7            80.0\n",
      "28           1             8            80.0\n",
      "29           1             9            80.0\n",
      "30           1            10            80.0\n",
      "31           1            11            80.0\n",
      "32           1            12            80.0\n",
      "33           1            13            80.0\n",
      "34           1            14            80.0\n",
      "35           1            15            80.0\n",
      "36           1            16            80.0\n",
      "37           1            17            80.0\n",
      "38           1            18            80.0\n",
      "39           1            19            80.0\n"
     ]
    }
   ],
   "source": [
    "grouped_df = df_complete.groupby([\"vehicle_id\",\"weight_index\"])[\"num_iterations\"].mean()\n",
    "grouped_df = grouped_df.reset_index()\n",
    "print(grouped_df)\n",
    "#sns.scatterplot(grouped_df, x=\"normalised_speed_reward\",hue=\"vehicle_id\")"
   ]
  },
  {
   "cell_type": "code",
   "execution_count": 4,
   "metadata": {},
   "outputs": [
    {
     "data": {
      "text/plain": [
       "<Axes: xlabel='weight_index', ylabel='num_iterations'>"
      ]
     },
     "execution_count": 4,
     "metadata": {},
     "output_type": "execute_result"
    },
    {
     "data": {
      "image/png": "[encoded data removed]",
      "text/plain": [
       "<Figure size 640x480 with 1 Axes>"
      ]
     },
     "metadata": {},
     "output_type": "display_data"
    }
   ],
   "source": [
    "sns.lineplot(grouped_df, x=\"weight_index\",y=\"num_iterations\",hue=\"vehicle_id\")"
   ]
  },
  {
   "cell_type": "code",
   "execution_count": 5,
   "metadata": {},
   "outputs": [
    {
     "data": {
      "text/plain": [
       "<Axes: xlabel='normalised_speed_reward', ylabel='normalised_energy_reward'>"
      ]
     },
     "execution_count": 5,
     "metadata": {},
     "output_type": "execute_result"
    },
    {
     "data": {
      "image/png": "[encoded data removed]",
      "text/plain": [
       "<Figure size 640x480 with 1 Axes>"
      ]
     },
     "metadata": {},
     "output_type": "display_data"
    }
   ],
   "source": [
    "grouped_df = df_complete.groupby([\"vehicle_id\",\"weight_index\"])[[\"normalised_speed_reward\", \"normalised_energy_reward\"]].mean()\n",
    "grouped_df = grouped_df.reset_index()\n",
    "sns.scatterplot(grouped_df, x=\"normalised_speed_reward\", y=\"normalised_energy_reward\", hue=\"vehicle_id\")"
   ]
  },
  {
   "cell_type": "code",
   "execution_count": 6,
   "metadata": {},
   "outputs": [
    {
     "name": "stdout",
     "output_type": "stream",
     "text": [
      "<class 'pandas.core.frame.DataFrame'>\n",
      "RangeIndex: 501440 entries, 0 to 501439\n",
      "Data columns (total 3 columns):\n",
      " #   Column      Non-Null Count   Dtype  \n",
      "---  ------      --------------   -----  \n",
      " 0   Unnamed: 0  501440 non-null  int64  \n",
      " 1   episode     501419 non-null  float64\n",
      " 2   loss        501419 non-null  float64\n",
      "dtypes: float64(2), int64(1)\n",
      "memory usage: 11.5 MB\n"
     ]
    },
    {
     "data": {
      "text/plain": [
       "None"
      ]
     },
     "metadata": {},
     "output_type": "display_data"
    },
    {
     "data": {
      "text/html": [
       "<div>\n",
       "<style scoped>\n",
       "    .dataframe tbody tr th:only-of-type {\n",
       "        vertical-align: middle;\n",
       "    }\n",
       "\n",
       "    .dataframe tbody tr th {\n",
       "        vertical-align: top;\n",
       "    }\n",
       "\n",
       "    .dataframe thead th {\n",
       "        text-align: right;\n",
       "    }\n",
       "</style>\n",
       "<table border=\"1\" class=\"dataframe\">\n",
       "  <thead>\n",
       "    <tr style=\"text-align: right;\">\n",
       "      <th></th>\n",
       "      <th>Unnamed: 0</th>\n",
       "      <th>episode</th>\n",
       "      <th>loss</th>\n",
       "    </tr>\n",
       "  </thead>\n",
       "  <tbody>\n",
       "    <tr>\n",
       "      <th>0</th>\n",
       "      <td>0</td>\n",
       "      <td>NaN</td>\n",
       "      <td>NaN</td>\n",
       "    </tr>\n",
       "    <tr>\n",
       "      <th>1</th>\n",
       "      <td>1</td>\n",
       "      <td>NaN</td>\n",
       "      <td>NaN</td>\n",
       "    </tr>\n",
       "    <tr>\n",
       "      <th>2</th>\n",
       "      <td>2</td>\n",
       "      <td>NaN</td>\n",
       "      <td>NaN</td>\n",
       "    </tr>\n",
       "    <tr>\n",
       "      <th>3</th>\n",
       "      <td>3</td>\n",
       "      <td>NaN</td>\n",
       "      <td>NaN</td>\n",
       "    </tr>\n",
       "    <tr>\n",
       "      <th>4</th>\n",
       "      <td>4</td>\n",
       "      <td>NaN</td>\n",
       "      <td>NaN</td>\n",
       "    </tr>\n",
       "    <tr>\n",
       "      <th>...</th>\n",
       "      <td>...</td>\n",
       "      <td>...</td>\n",
       "      <td>...</td>\n",
       "    </tr>\n",
       "    <tr>\n",
       "      <th>501435</th>\n",
       "      <td>501435</td>\n",
       "      <td>9999.0</td>\n",
       "      <td>0.000977</td>\n",
       "    </tr>\n",
       "    <tr>\n",
       "      <th>501436</th>\n",
       "      <td>501436</td>\n",
       "      <td>9999.0</td>\n",
       "      <td>0.000846</td>\n",
       "    </tr>\n",
       "    <tr>\n",
       "      <th>501437</th>\n",
       "      <td>501437</td>\n",
       "      <td>9999.0</td>\n",
       "      <td>0.001325</td>\n",
       "    </tr>\n",
       "    <tr>\n",
       "      <th>501438</th>\n",
       "      <td>501438</td>\n",
       "      <td>9999.0</td>\n",
       "      <td>0.000784</td>\n",
       "    </tr>\n",
       "    <tr>\n",
       "      <th>501439</th>\n",
       "      <td>501439</td>\n",
       "      <td>9999.0</td>\n",
       "      <td>0.000480</td>\n",
       "    </tr>\n",
       "  </tbody>\n",
       "</table>\n",
       "<p>501440 rows × 3 columns</p>\n",
       "</div>"
      ],
      "text/plain": [
       "        Unnamed: 0  episode      loss\n",
       "0                0      NaN       NaN\n",
       "1                1      NaN       NaN\n",
       "2                2      NaN       NaN\n",
       "3                3      NaN       NaN\n",
       "4                4      NaN       NaN\n",
       "...            ...      ...       ...\n",
       "501435      501435   9999.0  0.000977\n",
       "501436      501436   9999.0  0.000846\n",
       "501437      501437   9999.0  0.001325\n",
       "501438      501438   9999.0  0.000784\n",
       "501439      501439   9999.0  0.000480\n",
       "\n",
       "[501440 rows x 3 columns]"
      ]
     },
     "metadata": {},
     "output_type": "display_data"
    }
   ],
   "source": [
    "#load the data\n",
    "df_complete = pd.read_csv(\"loss_test.csv\")\n",
    "display(df_complete.info())\n",
    "display(df_complete)"
   ]
  },
  {
   "cell_type": "code",
   "execution_count": 7,
   "metadata": {},
   "outputs": [
    {
     "data": {
      "text/plain": [
       "<Axes: xlabel='episode'>"
      ]
     },
     "execution_count": 7,
     "metadata": {},
     "output_type": "execute_result"
    },
    {
     "data": {
      "image/png": "[encoded data removed]",
      "text/plain": [
       "<Figure size 640x480 with 1 Axes>"
      ]
     },
     "metadata": {},
     "output_type": "display_data"
    }
   ],
   "source": [
    "grouped_df = df_complete.groupby(\"episode\")[\"loss\"].mean()\n",
    "grouped_df.to_frame().reset_index()\n",
    "grouped_df.plot()"
   ]
  },
  {
   "cell_type": "code",
   "execution_count": 8,
   "metadata": {},
   "outputs": [],
   "source": [
    "import sys, os\n",
    "sys.path.append(\"../\")\n",
    "import gymnasium as gym\n",
    "import mo_gymnasium as mo_gym\n",
    "import numpy as np\n",
    "from src import MOMA_DQN\n",
    "from matplotlib import pyplot as plt\n",
    "import matplotlib\n",
    "import pandas as pd\n",
    "import torch\n",
    "\n",
    "env = mo_gym.make('moma-highway-env-v0', render_mode='rgb_array')\n",
    "env.unwrapped.configure({\n",
    "    \"screen_width\": 500,\n",
    "    \"screen_height\": 500,\n",
    "    \"vehicles_count\": 10,\n",
    "    \"controlled_vehicles\": 2,\n",
    "    \"action\": {\n",
    "        \"type\": \"MultiAgentAction\",\n",
    "        \"action_config\": {\n",
    "            \"type\": \"DiscreteMetaAction\",\n",
    "        }\n",
    "    }\n",
    "})\n",
    "\n",
    "obs, info = env.reset()\n",
    "obs = [torch.tensor(single_obs) for single_obs in obs] #reshape observations and\n",
    "obs = [single_obs[~torch.isnan(single_obs)].reshape(1,-1) for single_obs in obs] #remove nan values\n",
    "agent = MOMA_DQN.MOMA_DQN(env, num_objectives=2, seed=11, replay_buffer_size=1000, batch_ratio=0.3, use_multi_dqn=False, reward_structure=\"mean_reward\", observation_space_name=\"Kinematics\")\n",
    "agent.load_network(\"model_test.pth\")"
   ]
  },
  {
   "cell_type": "code",
   "execution_count": 10,
   "metadata": {},
   "outputs": [
    {
     "name": "stderr",
     "output_type": "stream",
     "text": [
      "/home/franz/Documents/Master_Project/moma-rl-ad/venv/lib/python3.12/site-packages/gymnasium/core.py:311: UserWarning: \u001b[33mWARN: env.viewer to get variables from other wrappers is deprecated and will be removed in v1.0, to get this variable you can do `env.unwrapped.viewer` for environment variables or `env.get_wrapper_attr('viewer')` that will search the reminding wrappers.\u001b[0m\n",
      "  logger.warn(\n",
      "\n",
      "\n",
      "\u001b[A\u001b[A\n",
      "\n",
      "\u001b[A\u001b[A\n",
      "\n",
      "\u001b[A\u001b[A\n",
      "\n",
      "\u001b[A\u001b[A\n",
      "\n",
      "Weight tuple:  80%|████████  | 4/5 [00:33<00:08,  8.47s/it]\n"
     ]
    },
    {
     "ename": "KeyboardInterrupt",
     "evalue": "",
     "output_type": "error",
     "traceback": [
      "\u001b[0;31m---------------------------------------------------------------------------\u001b[0m",
      "\u001b[0;31mKeyboardInterrupt\u001b[0m                         Traceback (most recent call last)",
      "Cell \u001b[0;32mIn[10], line 1\u001b[0m\n\u001b[0;32m----> 1\u001b[0m \u001b[43magent\u001b[49m\u001b[38;5;241;43m.\u001b[39;49m\u001b[43mevaluate\u001b[49m\u001b[43m(\u001b[49m\u001b[43mnum_repetitions\u001b[49m\u001b[38;5;241;43m=\u001b[39;49m\u001b[43m \u001b[49m\u001b[38;5;241;43m2\u001b[39;49m\u001b[43m,\u001b[49m\u001b[43m \u001b[49m\u001b[43mnum_points\u001b[49m\u001b[38;5;241;43m=\u001b[39;49m\u001b[38;5;241;43m5\u001b[39;49m\u001b[43m,\u001b[49m\u001b[43m \u001b[49m\u001b[43mrender_episodes\u001b[49m\u001b[38;5;241;43m=\u001b[39;49m\u001b[38;5;28;43;01mTrue\u001b[39;49;00m\u001b[43m)\u001b[49m\n",
      "File \u001b[0;32m~/Documents/Master_Project/moma-rl-ad/test_4_kinematics_256_laneinfos/../src/MOMA_DQN.py:554\u001b[0m, in \u001b[0;36mMOMA_DQN.evaluate\u001b[0;34m(self, num_repetitions, num_points, hv_reference_point, seed, episode_recording_interval, video_name_prefix, video_location, render_episodes)\u001b[0m\n\u001b[1;32m    546\u001b[0m     num_close_vehicles \u001b[38;5;241m=\u001b[39m MOMA_DQN\u001b[38;5;241m.\u001b[39m__get_num_close_vehicles(info[\u001b[38;5;124m\"\u001b[39m\u001b[38;5;124mvehicle_objective_weights\u001b[39m\u001b[38;5;124m\"\u001b[39m])\n\u001b[1;32m    547\u001b[0m \u001b[38;5;28mself\u001b[39m\u001b[38;5;241m.\u001b[39maction \u001b[38;5;241m=\u001b[39m \u001b[38;5;28mself\u001b[39m\u001b[38;5;241m.\u001b[39mact(\u001b[38;5;28mself\u001b[39m\u001b[38;5;241m.\u001b[39mobs, eps_greedy\u001b[38;5;241m=\u001b[39m\u001b[38;5;28;01mFalse\u001b[39;00m, num_close_vehicles\u001b[38;5;241m=\u001b[39mnum_close_vehicles)\n\u001b[1;32m    548\u001b[0m (\n\u001b[1;32m    549\u001b[0m \u001b[38;5;28mself\u001b[39m\u001b[38;5;241m.\u001b[39mobs,\n\u001b[1;32m    550\u001b[0m \u001b[38;5;28mself\u001b[39m\u001b[38;5;241m.\u001b[39mreward,\n\u001b[1;32m    551\u001b[0m \u001b[38;5;28mself\u001b[39m\u001b[38;5;241m.\u001b[39mterminated,\n\u001b[1;32m    552\u001b[0m \u001b[38;5;28mself\u001b[39m\u001b[38;5;241m.\u001b[39mtruncated,\n\u001b[1;32m    553\u001b[0m info,\n\u001b[0;32m--> 554\u001b[0m ) \u001b[38;5;241m=\u001b[39m \u001b[38;5;28;43mself\u001b[39;49m\u001b[38;5;241;43m.\u001b[39;49m\u001b[43meval_env\u001b[49m\u001b[38;5;241;43m.\u001b[39;49m\u001b[43mstep\u001b[49m\u001b[43m(\u001b[49m\u001b[38;5;28;43mself\u001b[39;49m\u001b[38;5;241;43m.\u001b[39;49m\u001b[43maction\u001b[49m\u001b[43m)\u001b[49m\n\u001b[1;32m    556\u001b[0m \u001b[38;5;66;03m#accumulate rewards for summary logger\u001b[39;00m\n\u001b[1;32m    557\u001b[0m \u001b[38;5;28;01mfor\u001b[39;00m vehicle_id \u001b[38;5;129;01min\u001b[39;00m \u001b[38;5;28mrange\u001b[39m(\u001b[38;5;28mself\u001b[39m\u001b[38;5;241m.\u001b[39mnum_controlled_vehicles):\n\u001b[1;32m    558\u001b[0m     \u001b[38;5;66;03m#select only the ego rewards for a specific controlled vehicle\u001b[39;00m\n",
      "File \u001b[0;32m~/Documents/Master_Project/moma-rl-ad/venv/lib/python3.12/site-packages/gymnasium/wrappers/order_enforcing.py:56\u001b[0m, in \u001b[0;36mOrderEnforcing.step\u001b[0;34m(self, action)\u001b[0m\n\u001b[1;32m     54\u001b[0m \u001b[38;5;28;01mif\u001b[39;00m \u001b[38;5;129;01mnot\u001b[39;00m \u001b[38;5;28mself\u001b[39m\u001b[38;5;241m.\u001b[39m_has_reset:\n\u001b[1;32m     55\u001b[0m     \u001b[38;5;28;01mraise\u001b[39;00m ResetNeeded(\u001b[38;5;124m\"\u001b[39m\u001b[38;5;124mCannot call env.step() before calling env.reset()\u001b[39m\u001b[38;5;124m\"\u001b[39m)\n\u001b[0;32m---> 56\u001b[0m \u001b[38;5;28;01mreturn\u001b[39;00m \u001b[38;5;28;43mself\u001b[39;49m\u001b[38;5;241;43m.\u001b[39;49m\u001b[43menv\u001b[49m\u001b[38;5;241;43m.\u001b[39;49m\u001b[43mstep\u001b[49m\u001b[43m(\u001b[49m\u001b[43maction\u001b[49m\u001b[43m)\u001b[49m\n",
      "File \u001b[0;32m~/Documents/Master_Project/moma-rl-ad/venv/lib/python3.12/site-packages/highway_env/envs/common/abstract.py:235\u001b[0m, in \u001b[0;36mAbstractEnv.step\u001b[0;34m(self, action)\u001b[0m\n\u001b[1;32m    232\u001b[0m     \u001b[38;5;28;01mraise\u001b[39;00m \u001b[38;5;167;01mNotImplementedError\u001b[39;00m(\u001b[38;5;124m\"\u001b[39m\u001b[38;5;124mThe road and vehicle must be initialized in the environment implementation\u001b[39m\u001b[38;5;124m\"\u001b[39m)\n\u001b[1;32m    234\u001b[0m \u001b[38;5;28mself\u001b[39m\u001b[38;5;241m.\u001b[39mtime \u001b[38;5;241m+\u001b[39m\u001b[38;5;241m=\u001b[39m \u001b[38;5;241m1\u001b[39m \u001b[38;5;241m/\u001b[39m \u001b[38;5;28mself\u001b[39m\u001b[38;5;241m.\u001b[39mconfig[\u001b[38;5;124m\"\u001b[39m\u001b[38;5;124mpolicy_frequency\u001b[39m\u001b[38;5;124m\"\u001b[39m]\n\u001b[0;32m--> 235\u001b[0m \u001b[38;5;28;43mself\u001b[39;49m\u001b[38;5;241;43m.\u001b[39;49m\u001b[43m_simulate\u001b[49m\u001b[43m(\u001b[49m\u001b[43maction\u001b[49m\u001b[43m)\u001b[49m\n\u001b[1;32m    237\u001b[0m obs \u001b[38;5;241m=\u001b[39m \u001b[38;5;28mself\u001b[39m\u001b[38;5;241m.\u001b[39mobservation_type\u001b[38;5;241m.\u001b[39mobserve()\n\u001b[1;32m    238\u001b[0m reward \u001b[38;5;241m=\u001b[39m \u001b[38;5;28mself\u001b[39m\u001b[38;5;241m.\u001b[39m_reward(action)\n",
      "File \u001b[0;32m~/Documents/Master_Project/moma-rl-ad/venv/lib/python3.12/site-packages/highway_env/envs/common/abstract.py:264\u001b[0m, in \u001b[0;36mAbstractEnv._simulate\u001b[0;34m(self, action)\u001b[0m\n\u001b[1;32m    261\u001b[0m     \u001b[38;5;66;03m# Automatically render intermediate simulation steps if a viewer has been launched\u001b[39;00m\n\u001b[1;32m    262\u001b[0m     \u001b[38;5;66;03m# Ignored if the rendering is done offscreen\u001b[39;00m\n\u001b[1;32m    263\u001b[0m     \u001b[38;5;28;01mif\u001b[39;00m frame \u001b[38;5;241m<\u001b[39m frames \u001b[38;5;241m-\u001b[39m \u001b[38;5;241m1\u001b[39m:  \u001b[38;5;66;03m# Last frame will be rendered through env.render() as usual\u001b[39;00m\n\u001b[0;32m--> 264\u001b[0m         \u001b[38;5;28;43mself\u001b[39;49m\u001b[38;5;241;43m.\u001b[39;49m\u001b[43m_automatic_rendering\u001b[49m\u001b[43m(\u001b[49m\u001b[43m)\u001b[49m\n\u001b[1;32m    266\u001b[0m \u001b[38;5;28mself\u001b[39m\u001b[38;5;241m.\u001b[39menable_auto_render \u001b[38;5;241m=\u001b[39m \u001b[38;5;28;01mFalse\u001b[39;00m\n",
      "File \u001b[0;32m~/Documents/Master_Project/moma-rl-ad/venv/lib/python3.12/site-packages/highway_env/envs/common/abstract.py:325\u001b[0m, in \u001b[0;36mAbstractEnv._automatic_rendering\u001b[0;34m(self)\u001b[0m\n\u001b[1;32m    323\u001b[0m     \u001b[38;5;28mself\u001b[39m\u001b[38;5;241m.\u001b[39m_record_video_wrapper\u001b[38;5;241m.\u001b[39mvideo_recorder\u001b[38;5;241m.\u001b[39mcapture_frame()\n\u001b[1;32m    324\u001b[0m \u001b[38;5;28;01melse\u001b[39;00m:\n\u001b[0;32m--> 325\u001b[0m     \u001b[38;5;28;43mself\u001b[39;49m\u001b[38;5;241;43m.\u001b[39;49m\u001b[43mrender\u001b[49m\u001b[43m(\u001b[49m\u001b[43m)\u001b[49m\n",
      "File \u001b[0;32m~/Documents/Master_Project/moma-rl-ad/venv/lib/python3.12/site-packages/highway_env/envs/common/abstract.py:287\u001b[0m, in \u001b[0;36mAbstractEnv.render\u001b[0;34m(self)\u001b[0m\n\u001b[1;32m    283\u001b[0m     \u001b[38;5;28mself\u001b[39m\u001b[38;5;241m.\u001b[39mviewer \u001b[38;5;241m=\u001b[39m EnvViewer(\u001b[38;5;28mself\u001b[39m)\n\u001b[1;32m    285\u001b[0m \u001b[38;5;28mself\u001b[39m\u001b[38;5;241m.\u001b[39menable_auto_render \u001b[38;5;241m=\u001b[39m \u001b[38;5;28;01mTrue\u001b[39;00m\n\u001b[0;32m--> 287\u001b[0m \u001b[38;5;28;43mself\u001b[39;49m\u001b[38;5;241;43m.\u001b[39;49m\u001b[43mviewer\u001b[49m\u001b[38;5;241;43m.\u001b[39;49m\u001b[43mdisplay\u001b[49m\u001b[43m(\u001b[49m\u001b[43m)\u001b[49m\n\u001b[1;32m    289\u001b[0m \u001b[38;5;28;01mif\u001b[39;00m \u001b[38;5;129;01mnot\u001b[39;00m \u001b[38;5;28mself\u001b[39m\u001b[38;5;241m.\u001b[39mviewer\u001b[38;5;241m.\u001b[39moffscreen:\n\u001b[1;32m    290\u001b[0m     \u001b[38;5;28mself\u001b[39m\u001b[38;5;241m.\u001b[39mviewer\u001b[38;5;241m.\u001b[39mhandle_events()\n",
      "File \u001b[0;32m~/Documents/Master_Project/moma-rl-ad/venv/lib/python3.12/site-packages/highway_env/envs/common/graphics.py:123\u001b[0m, in \u001b[0;36mEnvViewer.display\u001b[0;34m(self)\u001b[0m\n\u001b[1;32m    121\u001b[0m             \u001b[38;5;28mself\u001b[39m\u001b[38;5;241m.\u001b[39mscreen\u001b[38;5;241m.\u001b[39mblit(\u001b[38;5;28mself\u001b[39m\u001b[38;5;241m.\u001b[39magent_surface, (\u001b[38;5;241m0\u001b[39m, \u001b[38;5;28mself\u001b[39m\u001b[38;5;241m.\u001b[39mconfig[\u001b[38;5;124m\"\u001b[39m\u001b[38;5;124mscreen_height\u001b[39m\u001b[38;5;124m\"\u001b[39m]))\n\u001b[1;32m    122\u001b[0m         \u001b[38;5;28;01melse\u001b[39;00m:\n\u001b[0;32m--> 123\u001b[0m             \u001b[38;5;28;43mself\u001b[39;49m\u001b[38;5;241;43m.\u001b[39;49m\u001b[43mscreen\u001b[49m\u001b[38;5;241;43m.\u001b[39;49m\u001b[43mblit\u001b[49m\u001b[43m(\u001b[49m\u001b[38;5;28;43mself\u001b[39;49m\u001b[38;5;241;43m.\u001b[39;49m\u001b[43magent_surface\u001b[49m\u001b[43m,\u001b[49m\u001b[43m \u001b[49m\u001b[43m(\u001b[49m\u001b[38;5;28;43mself\u001b[39;49m\u001b[38;5;241;43m.\u001b[39;49m\u001b[43mconfig\u001b[49m\u001b[43m[\u001b[49m\u001b[38;5;124;43m\"\u001b[39;49m\u001b[38;5;124;43mscreen_width\u001b[39;49m\u001b[38;5;124;43m\"\u001b[39;49m\u001b[43m]\u001b[49m\u001b[43m,\u001b[49m\u001b[43m \u001b[49m\u001b[38;5;241;43m0\u001b[39;49m\u001b[43m)\u001b[49m\u001b[43m)\u001b[49m\n\u001b[1;32m    125\u001b[0m RoadGraphics\u001b[38;5;241m.\u001b[39mdisplay_traffic(\n\u001b[1;32m    126\u001b[0m     \u001b[38;5;28mself\u001b[39m\u001b[38;5;241m.\u001b[39menv\u001b[38;5;241m.\u001b[39mroad,\n\u001b[1;32m    127\u001b[0m     \u001b[38;5;28mself\u001b[39m\u001b[38;5;241m.\u001b[39msim_surface,\n\u001b[1;32m    128\u001b[0m     simulation_frequency\u001b[38;5;241m=\u001b[39m\u001b[38;5;28mself\u001b[39m\u001b[38;5;241m.\u001b[39menv\u001b[38;5;241m.\u001b[39mconfig[\u001b[38;5;124m\"\u001b[39m\u001b[38;5;124msimulation_frequency\u001b[39m\u001b[38;5;124m\"\u001b[39m],\n\u001b[1;32m    129\u001b[0m     offscreen\u001b[38;5;241m=\u001b[39m\u001b[38;5;28mself\u001b[39m\u001b[38;5;241m.\u001b[39moffscreen)\n\u001b[1;32m    131\u001b[0m ObservationGraphics\u001b[38;5;241m.\u001b[39mdisplay(\u001b[38;5;28mself\u001b[39m\u001b[38;5;241m.\u001b[39menv\u001b[38;5;241m.\u001b[39mobservation_type, \u001b[38;5;28mself\u001b[39m\u001b[38;5;241m.\u001b[39msim_surface)\n",
      "\u001b[0;31mKeyboardInterrupt\u001b[0m: "
     ]
    }
   ],
   "source": [
    "agent.evaluate(num_repetitions= 2, num_points=5, render_episodes=True)"
   ]
  }
 ],
 "metadata": {
  "kernelspec": {
   "display_name": "venv",
   "language": "python",
   "name": "python3"
  },
  "language_info": {
   "codemirror_mode": {
    "name": "ipython",
    "version": 3
   },
   "file_extension": ".py",
   "mimetype": "text/x-python",
   "name": "python",
   "nbconvert_exporter": "python",
   "pygments_lexer": "ipython3",
   "version": "3.12.3"
  }
 },
 "nbformat": 4,
 "nbformat_minor": 2
}
